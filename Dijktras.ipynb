{
  "nbformat": 4,
  "nbformat_minor": 0,
  "metadata": {
    "colab": {
      "name": "Dijktras.ipynb",
      "provenance": [],
      "collapsed_sections": []
    },
    "kernelspec": {
      "name": "python3",
      "display_name": "Python 3"
    }
  },
  "cells": [
    {
      "cell_type": "markdown",
      "metadata": {
        "id": "HRwsq-ZchLFU",
        "colab_type": "text"
      },
      "source": [
        "# **Graph Implementation and finding the minimum distance between any two nodes :**"
      ]
    },
    {
      "cell_type": "markdown",
      "metadata": {
        "id": "GOv4OUv3rYx0",
        "colab_type": "text"
      },
      "source": [
        "From GPS navigation to network-layer link-state routing, Dijkstra’s Algorithm powers some of the most taken-for-granted modern services. Utilizing some basic data structures, let’s get an understanding of what it does, how it accomplishes its goal, and how to implement it in Python (first naively, and then with good asymptotic runtime!)\n",
        "\n",
        "**What does it do?**\n",
        "\n",
        "Dijkstra’s Algorithm finds the shortest path between two nodes of a graph. So, if we have a mathematical problem we can model with a graph, we can find the shortest path between our nodes with Dijkstra’s Algorithm."
      ]
    },
    {
      "cell_type": "code",
      "metadata": {
        "id": "FcfaJ7kl7JcC",
        "colab_type": "code",
        "colab": {}
      },
      "source": [
        "import itertools\n",
        "import copy\n",
        "import networkx as nx\n",
        "import pandas as pd\n",
        "import matplotlib.pyplot as plt"
      ],
      "execution_count": 0,
      "outputs": []
    },
    {
      "cell_type": "markdown",
      "metadata": {
        "id": "CfJXDIYjwPqx",
        "colab_type": "text"
      },
      "source": [
        "![alt text](https://miro.medium.com/max/1768/1*7R3vlkvjWBRdA7LYyNhGaw.png)"
      ]
    },
    {
      "cell_type": "markdown",
      "metadata": {
        "id": "g25TK4lNwkPC",
        "colab_type": "text"
      },
      "source": [
        "***Graph Implementation***\n",
        "\n",
        "This step is slightly beyond the scope of this article, so I won’t get too far into the details. The two most common ways to implement a graph is with an adjacency matrix or adjacency list. Each has their own sets of strengths and weaknesses. I will be showing an implementation of an adjacency matrix at first because, in my opinion, it is slightly more intuitive and easier to visualize, and it will, later on, show us some insight into why the evaluation of our underlying implementations have a significant impact on runtime. Either implementation can be used with Dijkstra’s Algorithm, and all that matters for right now is understanding the API, aka the abstractions (methods), that we can use to interact with the graph. Let’s quickly review the implementation of an adjacency matrix and introduce some Python code. If you want to learn more about implementing an adjacency list, this is a good starting point.\n",
        "Below is the adjacency matrix of the graph depicted above. Each row is associated with a single node from the graph, as is each column. In our case, row 0 and column 0 will be associated with node “A”; row 1 and column 1 with node “B”, row 3 and column 3 with “C”, and so on. Each element at location {row, column} represents an edge. As such, each row shows the relationship between a single node and all other nodes. A “0” element indicates the lack of an edge, while a “1” indicates the presence of an edge connecting the row_node and the column_node in the direction of row_node → column_node. Because the graph in our example is undirected, you will notice that this matrix is equal to its transpose (i.e. it is a symmetric matrix) because each connection is bidirectional. You will also notice that the main diagonal of the matrix is all 0s because no node is connected to itself. In this way, the space complexity of this representation is wasteful.\n"
      ]
    },
    {
      "cell_type": "code",
      "metadata": {
        "id": "mUf2bITHu6_O",
        "colab_type": "code",
        "colab": {}
      },
      "source": [
        "class Node:\n",
        "  \n",
        "    def __init__(self, data, indexloc = None):\n",
        "        self.data = data\n",
        "        self.index = indexloc\n",
        "        \n",
        "       \n",
        "class Graph:\n",
        "\n",
        "    @classmethod\n",
        "    def create_from_nodes(self, nodes):\n",
        "        return Graph(len(nodes), len(nodes), nodes)\n",
        "\n",
        "  \n",
        "    def __init__(self, row, col, nodes = None):\n",
        "        # set up an adjacency matrix\n",
        "        self.adj_mat = [[0] * col for _ in range(row)]\n",
        "        self.nodes = nodes\n",
        "        for i in range(len(self.nodes)):\n",
        "            self.nodes[i].index = i\n",
        "\n",
        "    # Conncects from node1 to node2\n",
        "    # Note row is source, column is destination\n",
        "    # Updated to allow weighted edges (supporting dijkstra's alg)\n",
        "    def connect_dir(self, node1, node2, weight = 1):\n",
        "        node1, node2 = self.get_index_from_node(node1), self.get_index_from_node(node2)\n",
        "        self.adj_mat[node1][node2] = weight\n",
        "  \n",
        "    # Optional weight argument to support dijkstra's alg\n",
        "    def connect(self, node1, node2, weight = 1):\n",
        "        self.connect_dir(node1, node2, weight)\n",
        "        self.connect_dir(node2, node1, weight)\n",
        "\n",
        "    # Get node row, map non-zero items to their node in the self.nodes array\n",
        "    # Select any non-zero elements, leaving you with an array of nodes\n",
        "    # which are connections_to (for a directed graph)\n",
        "    # Return value: array of tuples (node, weight)\n",
        "    def connections_from(self, node):\n",
        "        node = self.get_index_from_node(node)\n",
        "        return [(self.nodes[col_num], self.adj_mat[node][col_num]) for col_num in range(len(self.adj_mat[node])) if self.adj_mat[node][col_num] != 0]\n",
        "\n",
        "    # Map matrix to column of node\n",
        "    # Map any non-zero elements to the node at that row index\n",
        "    # Select only non-zero elements\n",
        "    # Note for a non-directed graph, you can use connections_to OR\n",
        "    # connections_from\n",
        "    # Return value: array of tuples (node, weight)\n",
        "    def connections_to(self, node):\n",
        "      node = self.get_index_from_node(node)\n",
        "      column = [row[node] for row in self.adj_mat]\n",
        "      return [(self.nodes[row_num], column[row_num]) for row_num in range(len(column)) if column[row_num] != 0]\n",
        "     \n",
        "  \n",
        "    def print_adj_mat(self):\n",
        "      for row in self.adj_mat:\n",
        "          print(row)\n",
        "  \n",
        "    def node(self, index):\n",
        "      return self.nodes[index]\n",
        "    \n",
        "  \n",
        "    def remove_conn(self, node1, node2):\n",
        "      self.remove_conn_dir(node1, node2)\n",
        "      self.remove_conn_dir(node2, node1)\n",
        "   \n",
        "    # Remove connection in a directed manner (nod1 to node2)\n",
        "    # Can accept index number OR node object\n",
        "    def remove_conn_dir(self, node1, node2):\n",
        "      node1, node2 = self.get_index_from_node(node1), self.get_index_from_node(node2)\n",
        "      self.adj_mat[node1][node2] = 0   \n",
        "  \n",
        "    # Can go from node 1 to node 2?\n",
        "    def can_traverse_dir(self, node1, node2):\n",
        "      node1, node2 = self.get_index_from_node(node1), self.get_index_from_node(node2)\n",
        "      return self.adj_mat[node1][node2] != 0  \n",
        "  \n",
        "    def has_conn(self, node1, node2):\n",
        "      return self.can_traverse_dir(node1, node2) or self.can_traverse_dir(node2, node1)\n",
        "  \n",
        "    def add_node(self,node):\n",
        "      self.nodes.append(node)\n",
        "      node.index = len(self.nodes) - 1\n",
        "      for row in self.adj_mat:\n",
        "        row.append(0)     \n",
        "      self.adj_mat.append([0] * (len(self.adj_mat) + 1))\n",
        "\n",
        "    # Get the weight associated with travelling from n1\n",
        "    # to n2. Can accept index numbers OR node objects\n",
        "    def get_weight(self, n1, n2):\n",
        "        node1, node2 = self.get_index_from_node(n1), self.get_index_from_node(n2)\n",
        "        return self.adj_mat[node1][node2]\n",
        "  \n",
        "    # Allows either node OR node indices to be passed into \n",
        "    def get_index_from_node(self, node):\n",
        "        if not isinstance(node, Node) and not isinstance(node, int):\n",
        "            raise ValueError(\"node must be an integer or a Node object\")\n",
        "        if isinstance(node, int):\n",
        "            return node\n",
        "        else:\n",
        "            return node.index\n",
        "    def dijkstra(self, node):\n",
        "        # Get index of node (or maintain int passed in)\n",
        "        nodenum = self.get_index_from_node(node)\n",
        "        # Make an array keeping track of distance from node to any node\n",
        "        # in self.nodes. Initialize to infinity for all nodes but the \n",
        "        # starting node, keep track of \"path\" which relates to distance.\n",
        "        # Index 0 = distance, index 1 = node hops\n",
        "        dist = [None] * len(self.nodes)\n",
        "        for i in range(len(dist)):\n",
        "            dist[i] = [float(\"inf\")]\n",
        "            dist[i].append([self.nodes[nodenum]])\n",
        "        \n",
        "        dist[nodenum][0] = 0\n",
        "        # Queue of all nodes in the graph\n",
        "        # Note the integers in the queue correspond to indices of node\n",
        "        # locations in the self.nodes array\n",
        "        queue = [i for i in range(len(self.nodes))]\n",
        "        # Set of numbers seen so far\n",
        "        seen = set()\n",
        "        while len(queue) > 0:\n",
        "            # Get node in queue that has not yet been seen\n",
        "            # that has smallest distance to starting node\n",
        "            min_dist = float(\"inf\")\n",
        "            min_node = None\n",
        "            for n in queue: \n",
        "                if dist[n][0] < min_dist and n not in seen:\n",
        "                    min_dist = dist[n][0]\n",
        "                    min_node = n\n",
        "            \n",
        "            # Add min distance node to seen, remove from queue\n",
        "            queue.remove(min_node)\n",
        "            seen.add(min_node)\n",
        "            # Get all next hops \n",
        "            connections = self.connections_from(min_node)\n",
        "            # For each connection, update its path and total distance from \n",
        "            # starting node if the total distance is less than the current distance\n",
        "            # in dist array\n",
        "            for (node, weight) in connections: \n",
        "                tot_dist = weight + min_dist\n",
        "                if tot_dist < dist[node.index][0]:\n",
        "                    dist[node.index][0] = tot_dist\n",
        "                    dist[node.index][1] = list(dist[min_node][1])\n",
        "                    dist[node.index][1].append(node)\n",
        "        return dist       "
      ],
      "execution_count": 0,
      "outputs": []
    },
    {
      "cell_type": "markdown",
      "metadata": {
        "id": "-_7PPP1YvUwB",
        "colab_type": "text"
      },
      "source": [
        "Unweighted graph:\n"
      ]
    },
    {
      "cell_type": "code",
      "metadata": {
        "id": "lxFYiOWmu-tX",
        "colab_type": "code",
        "outputId": "2a7762d5-9be6-4c32-b0d3-fb80c55c73f9",
        "colab": {
          "base_uri": "https://localhost:8080/",
          "height": 120
        }
      },
      "source": [
        "a = Node(\"A\")\n",
        "b = Node(\"B\")\n",
        "c = Node(\"C\")\n",
        "d = Node(\"D\")\n",
        "e = Node(\"E\")\n",
        "f = Node(\"F\")\n",
        "\n",
        "graph = Graph.create_from_nodes([a,b,c,d,e,f])\n",
        "\n",
        "graph.connect(a,b)\n",
        "graph.connect(a,c)\n",
        "graph.connect(a,e)\n",
        "graph.connect(b,c)\n",
        "graph.connect(b,d)\n",
        "graph.connect(c,d)\n",
        "graph.connect(c,f)\n",
        "graph.connect(d,e)\n",
        "\n",
        "graph.print_adj_mat()"
      ],
      "execution_count": 0,
      "outputs": [
        {
          "output_type": "stream",
          "text": [
            "[0, 1, 1, 0, 1, 0]\n",
            "[1, 0, 1, 1, 0, 0]\n",
            "[1, 1, 0, 1, 0, 1]\n",
            "[0, 1, 1, 0, 1, 0]\n",
            "[1, 0, 0, 1, 0, 0]\n",
            "[0, 0, 1, 0, 0, 0]\n"
          ],
          "name": "stdout"
        }
      ]
    },
    {
      "cell_type": "markdown",
      "metadata": {
        "id": "PbhN6f9wvcyo",
        "colab_type": "text"
      },
      "source": [
        "weighted graph:"
      ]
    },
    {
      "cell_type": "code",
      "metadata": {
        "id": "C0NLbF0Lv1-w",
        "colab_type": "code",
        "outputId": "d6314fe5-d181-4f8c-d559-812b2117574e",
        "colab": {
          "base_uri": "https://localhost:8080/",
          "height": 119
        }
      },
      "source": [
        "w_graph = Graph.create_from_nodes([a,b,c,d,e,f])\n",
        "\n",
        "w_graph.connect(a,b,5)\n",
        "w_graph.connect(a,c,10)\n",
        "w_graph.connect(a,e,2)\n",
        "w_graph.connect(b,c,2)\n",
        "w_graph.connect(b,d,4)\n",
        "w_graph.connect(c,d,7)\n",
        "w_graph.connect(c,f,10)\n",
        "w_graph.connect(d,e,3)\n",
        "\n",
        "w_graph.print_adj_mat()"
      ],
      "execution_count": 0,
      "outputs": [
        {
          "output_type": "stream",
          "text": [
            "[0, 5, 10, 0, 2, 0]\n",
            "[5, 0, 2, 4, 0, 0]\n",
            "[10, 2, 0, 7, 0, 10]\n",
            "[0, 4, 7, 0, 3, 0]\n",
            "[2, 0, 0, 3, 0, 0]\n",
            "[0, 0, 10, 0, 0, 0]\n"
          ],
          "name": "stdout"
        }
      ]
    },
    {
      "cell_type": "markdown",
      "metadata": {
        "id": "ky_AtuP7wz89",
        "colab_type": "text"
      },
      "source": [
        "![alt text](https://miro.medium.com/max/1564/1*VrZncdslQlNvgC02hutXUA.png)"
      ]
    },
    {
      "cell_type": "markdown",
      "metadata": {
        "id": "AvKKHps8z6jp",
        "colab_type": "text"
      },
      "source": [
        "**Dijkstra’s Algorithm, Ho!**\n",
        "\n",
        "Before we jump right into the code, let’s cover some base points.\n",
        "Major stipulation: we can’t have negative edge lengths.\n",
        "Dijkstra’s algorithm was originally designed to find the shortest path between 2 particular nodes. However, it is also commonly used today to find the shortest paths between a source node and all other nodes. I will be programming out the latter today. To accomplish the former, you simply need to stop the algorithm once your destination node is added to your seen set (this will make more sense later).\n",
        "Ok, onto intuition. We want to find the shortest path in between a source node and all other nodes (or a destination node), but we don’t want to have to check EVERY single possible source-to-destination combination to do this, because that would take a really long time for a large graph, and we would be checking a lot of paths which we should know aren’t correct! So we decide to take a greedy approach! You have to take advantage of the times in life when you can be greedy and it doesn’t come with bad consequences!\n",
        "So what does it mean to be a greedy algorithm? It means that we make decisions based on the best choice at the time. This isn’t always the best thing to do — for example, if you were implementing a chess bot, you wouldn’t want to take the other player’s queen if it opened you up for a checkmate the next move! For situations like this, something like minimax would work better. In our case today, this greedy approach is the best thing to do and it drastically reduces the number of checks I have to do without losing accuracy. How?? Well, let’s say I am at my source node. I will assume an initial provisional distance from the source node to each other node in the graph is infinity (until I check them later). I know that by default the source node’s distance to the source node is minium (0) since there cannot be negative edge lengths. My source node looks at all of its neighbors and updates their provisional distance from the source node to be the edge length from the source node to that particular neighbor (plus 0). Note that you HAVE to check every immediate neighbor; there is no way around that. Next, my algorithm makes the greedy choice to next evaluate the node which has the shortest provisional distance to the source node. I mark my source node as visited so I don’t return to it and move to my next node. Now let’s consider where we are logically because it is an important realization. The node I am currently evaluating (the closest one to the source node) will NEVER be re-evaluated for its shortest path from the source node. Its provisional distance has now morphed into a definite distance. Even though there very well could be paths from the source node to this node through other avenues, I am certain that they will have a higher cost than the node’s current path because I chose this node because it was the shortest distance from the source node than any other node connected to the source node. So any other path to this mode must be longer than the current source-node-distance for this node. Using our example graph, if we set our source node as A, we would set provisional distances for nodes B, C, and E. Because Ehad the shortest distance from A, we then visited node E. Now, even though there are multiple other ways to get from Ato E, I know they have higher weights than my current A→ E distance because those other routes must go through Bor C, which I have verified to be farther from A than E is from A. My greedy choice was made which limits the total number of checks I have to do, and I don’t lose accuracy! Pretty cool.\n",
        "Continuing the logic using our example graph, I just do the same thing from E as I did from A. I update all of E's immediate neighbors with provisional distances equal to length(A to E) + edge_length(E to neighbor) IF that distance is less than it’s current provisional distance, or a provisional distance has not been set. (Note: I simply initialize all provisional distances to infinity to get this functionality). I then make my greedy choice of what node should be evaluated next by choosing the one in the entire graph with the smallest provisional distance, and add E to my set of seen nodes so I don’t re-evaluate it. This new node has the same guarantee as E that its provisional distance from A is its definite minimal distance from A. To understand this, let’s evaluate the possibilities (although they may not correlate to our example graph, we will continue the node names for clarity). If the next node is a neighbor of E but not of A, then it will have been chosen because its provisional distance is still shorter than any other direct neighbor of A, so there is no possible other shortest path to it other than through E. If the next node chosen IS a direct neighbor of A, then there is a chance that this node provides a shorter path to some of E's neighbors than E itself does."
      ]
    },
    {
      "cell_type": "markdown",
      "metadata": {
        "id": "s2QkxYIR02aX",
        "colab_type": "text"
      },
      "source": [
        "**Algorithm Overview** \n",
        "\n",
        "Now let’s be a little more formal and thorough in our description.\n",
        "**INITIALIZATION**\n",
        "\n",
        "1.Set the provisional_distance of all nodes from the source node to infinity.\n",
        "\n",
        "2.Define an empty set of seen_nodes. This set will ensure we don’t re-evaluate a node which already has the shortest path set, and that we don’t evaluate paths through a node which has a shorter path to the source than the current path. Remember that nodes only go into seen_nodes once we are sure that we have their absolute shortest distance (not just their provisional distance). We use a set so that we get that sweet O(1) lookup time rather than repeatedly searching through an array at O(n) time.\n",
        "\n",
        "3.Set the provisional_distance of the source node to equal 0, and the array representing the hops taken to just include the source node itself. (This will be useful later as we track which path through the graph we take to get the calculated minimum distance).\n",
        "\n",
        "ITERATIVE PROCEDURE\n",
        "4. While we have not seen all nodes (or, in the case of source to single destination node evaluation, while we have not seen the destination node)\n",
        "\n",
        "5. Set current_node to the node with the smallest provisional_distance in the entire graph. Note that for the first iteration, this will be the source_node because we set its provisional_distance to 0.\n",
        "\n",
        "6. Add current_node to the seen_nodes set.\n",
        "7. Update the provisional_distance of each of current_node's neighbors to be the (absolute) distance from current_node to source_node plus the edge length from current_node to that neighbor IF that value is less than the neighbor’s current provisional_distance. If this neighbor has never had a provisional distance set, remember that it is initialized to infinity and thus must be larger than this sum. If we update provisional_distance, also update the “hops” we took to get this distance by concatenating current_node's hops to the source node with current_node itself.\n",
        "8. End While.\n"
      ]
    },
    {
      "cell_type": "markdown",
      "metadata": {
        "id": "QD6fpJKU14IQ",
        "colab_type": "text"
      },
      "source": [
        "![alt text](https://miro.medium.com/max/1836/1*Q_AL2T6pVtXvPHJDQNLiWw.png)\n",
        "![alt text](https://miro.medium.com/max/1844/1*fA8wz9HrwN6mdRtA6JG4Zw.png)\n",
        "![alt text](https://miro.medium.com/max/1892/1*zzzWi_dlgQp3ir0z5N5wMA.png)\n",
        "![alt text](https://miro.medium.com/max/1930/1*JewuCx8miSBuFpsT98H2JQ.png)\n",
        "![alt text](https://miro.medium.com/max/1934/1*wDbip498mh-BIjVvd9Msrw.png)\n",
        "![alt text](https://miro.medium.com/max/1934/1*wDbip498mh-BIjVvd9Msrw.png)\n",
        "![alt text](https://miro.medium.com/max/2026/1*AhDlJAorz-uMs3W5oXOS-w.png)"
      ]
    },
    {
      "cell_type": "markdown",
      "metadata": {
        "id": "c9QnFytB3e0O",
        "colab_type": "text"
      },
      "source": [
        "## ***Dijktra's algorithm and its implementation***"
      ]
    },
    {
      "cell_type": "markdown",
      "metadata": {
        "id": "JjdEr3s44NOX",
        "colab_type": "text"
      },
      "source": [
        "The implementation of the algorithm is done inside the main class graph and the solution of our problem i.e to obtain the shortest path between any two required points is given below.\n",
        " "
      ]
    },
    {
      "cell_type": "code",
      "metadata": {
        "id": "6Fh-Z03537En",
        "colab_type": "code",
        "outputId": "d14cf2d9-eb5e-4e17-9797-fda6fc300b09",
        "colab": {
          "base_uri": "https://localhost:8080/",
          "height": 54
        }
      },
      "source": [
        "a = Node(\"A\")\n",
        "b = Node(\"B\")\n",
        "c = Node(\"C\")\n",
        "d = Node(\"D\")\n",
        "e = Node(\"E\")\n",
        "f = Node(\"F\")\n",
        "\n",
        "w_graph = Graph.create_from_nodes([a,b,c,d,e,f])\n",
        "\n",
        "w_graph.connect(a,b,5)\n",
        "w_graph.connect(a,c,10)\n",
        "w_graph.connect(a,e,2)\n",
        "w_graph.connect(b,c,2)\n",
        "w_graph.connect(b,d,4)\n",
        "w_graph.connect(c,d,7)\n",
        "w_graph.connect(c,f,10)\n",
        "w_graph.connect(d,e,3)\n",
        "#enter the initial point from which the shortest path has to be found.\n",
        "print([(weight, [n.data for n in node]) for (weight, node) in w_graph.dijkstra(a)])"
      ],
      "execution_count": 0,
      "outputs": [
        {
          "output_type": "stream",
          "text": [
            "[(0, ['A']), (5, ['A', 'B']), (7, ['A', 'B', 'C']), (5, ['A', 'E', 'D']), (2, ['A', 'E']), (17, ['A', 'B', 'C', 'F'])]\n"
          ],
          "name": "stdout"
        }
      ]
    },
    {
      "cell_type": "markdown",
      "metadata": {
        "id": "8WVRK8Cl5WD_",
        "colab_type": "text"
      },
      "source": [
        "To get some human-readable output, we map our node objects to their data, which gives us the output:\n",
        "\n",
        "[(0, [‘A’]), (5, [‘A’, ‘B’]), (7, [‘A’, ‘B’, ‘C’]), (5, [‘A’, ‘E’, ‘D’]), (2, [‘A’, ‘E’]), (17, [‘A’, ‘B’, ‘C’, ‘F’])]\n",
        "\n",
        "Where each tuple is (total_distance, [hop_path]). This matches our picture above!"
      ]
    }
  ]
}